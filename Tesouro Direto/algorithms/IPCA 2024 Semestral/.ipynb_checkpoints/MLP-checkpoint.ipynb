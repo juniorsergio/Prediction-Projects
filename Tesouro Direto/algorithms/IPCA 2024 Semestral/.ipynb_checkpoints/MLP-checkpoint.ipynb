{
 "cells": [
  {
   "cell_type": "markdown",
   "metadata": {},
   "source": [
    "# IMPORTS"
   ]
  },
  {
   "cell_type": "code",
   "execution_count": 1,
   "metadata": {},
   "outputs": [],
   "source": [
    "import pandas as pd\n",
    "import datetime as dt\n",
    "import numpy as np\n",
    "from matplotlib import pyplot as plt\n",
    "\n",
    "from math import sqrt\n",
    "from sklearn.metrics import mean_squared_error\n",
    "from sklearn.preprocessing import MinMaxScaler\n",
    "\n",
    "from keras.models import Sequential\n",
    "from keras.layers import LSTM, Dense, Dropout\n",
    "from keras.optimizers import Adam\n",
    "from keras.metrics import RootMeanSquaredError"
   ]
  },
  {
   "cell_type": "code",
   "execution_count": 2,
   "metadata": {},
   "outputs": [],
   "source": [
    "titulos = pd.read_csv('../Datasets/Complete Dataset.csv')\n",
    "titulos['data_base'] = pd.to_datetime(titulos.data_base)\n",
    "titulos.set_index('data_base', inplace=True)\n",
    "\n",
    "IPCA_2024 = titulos[titulos['titulo']=='Tesouro IPCA+ com Juros Semestrais 15/08/2024']\n",
    "IPCA_2024 = IPCA_2024.drop(columns=['titulo'])"
   ]
  },
  {
   "cell_type": "markdown",
   "metadata": {},
   "source": [
    "# REFRAME THE DATASET TO SUPERVISED"
   ]
  },
  {
   "cell_type": "code",
   "execution_count": 3,
   "metadata": {},
   "outputs": [],
   "source": [
    "# convert series to supervised learning\n",
    "def series_to_supervised(data, n_in=1, n_out=1, dropnan=True):\n",
    "    n_vars = 1 if type(data) is list else data.shape[1]\n",
    "    df = pd.DataFrame(data)\n",
    "    cols, names = list(), list()\n",
    "    \n",
    "    # input sequence (t-n, ... t-1)\n",
    "    for i in range(n_in, 0, -1):\n",
    "        cols.append(df.shift(i))\n",
    "        names += [(df.columns.values.tolist()[j] + '(t-%d)' % (i)) for j in range(n_vars)]\n",
    "        \n",
    "    # forecast sequence (t, t+1, ... t+n)\n",
    "    for i in range(0, n_out):\n",
    "        cols.append(df['taxa_compra'].shift(-i))\n",
    "        if i == 0:\n",
    "            names.append('taxa_compra(t)') #[(df.columns.values.tolist()[j] + '(t)') for j in range(n_vars)]\n",
    "        else:\n",
    "            names.append('taxa_compra(t+%d)') %(i) #[(df.columns.values.tolist()[j] + '(t+%d)' % (i)) for j in range(n_vars)]\n",
    "            \n",
    "    # put it all together\n",
    "    agg = pd.concat(cols, axis=1)\n",
    "    agg.columns = names\n",
    "    \n",
    "    # drop rows with NaN values\n",
    "    if dropnan:\n",
    "        agg.dropna(inplace=True)\n",
    "    return agg"
   ]
  },
  {
   "cell_type": "code",
   "execution_count": 4,
   "metadata": {},
   "outputs": [],
   "source": [
    "# split into train and test sets\n",
    "def split_train_test(dataset):\n",
    "    values = dataset.values\n",
    "    division_train = int(dataset.shape[0]*0.6)\n",
    "    division_validation = int(dataset.shape[0]*0.8)\n",
    "    \n",
    "    train = values[:division_train]\n",
    "    validation = values[division_train:division_validation]\n",
    "    test = values[division_validation:]\n",
    "    \n",
    "    # split into input and outputs\n",
    "    # output: taxa_compra(t), input: everything else\n",
    "    train_input, train_output = train[:, :-1], train[:, -1]\n",
    "    validation_input, validation_output = validation[:, :-1], validation[:, -1]\n",
    "    test_input, test_output = test[:, :-1], test[:, -1]\n",
    "    \n",
    "    # reshape input to be 3D [samples, timesteps, features]\n",
    "    train_input = train_input.reshape((train_input.shape[0], 1, train_input.shape[1]))\n",
    "    validation_input = validation_input.reshape((validation_input.shape[0], 1, validation_input.shape[1]))\n",
    "    test_input = test_input.reshape((test_input.shape[0], 1, test_input.shape[1]))\n",
    "    \n",
    "    return train_input, train_output, validation_input, validation_output, test_input, test_output"
   ]
  },
  {
   "cell_type": "markdown",
   "metadata": {},
   "source": [
    "# NEURAL NETWORK STRUCTURE"
   ]
  },
  {
   "cell_type": "code",
   "execution_count": 5,
   "metadata": {},
   "outputs": [],
   "source": [
    "def plot_graph(x, y, label_x, label_y, name_x, name_y, title):\n",
    "    plt.plot(x, label=label_x)\n",
    "    plt.plot(y, label=label_y)\n",
    "    plt.xlabel(name_x,fontsize=10)\n",
    "    plt.ylabel(name_y,fontsize=10)\n",
    "    plt.title(title)\n",
    "    plt.legend()\n",
    "    plt.show()"
   ]
  },
  {
   "cell_type": "code",
   "execution_count": 62,
   "metadata": {},
   "outputs": [],
   "source": [
    "def rmse(inputs, output, model):\n",
    "    # make a prediction\n",
    "    prediction = model.predict(inputs)\n",
    "    #inputs = inputs.reshape((inputs.shape[0], inputs.shape[2]))\n",
    "\n",
    "    # invert scaling for forecast (go back to the regular rates)\n",
    "    print(prediction.shape, inputs.shape)\n",
    "    forecast = np.concatenate((prediction, inputs[:, :, 1:]), axis=1)\n",
    "    forecast = scaler.inverse_transform(forecast)\n",
    "    forecast = forecast[:,0]\n",
    "\n",
    "    # invert scaling for actual\n",
    "    output = output.reshape((len(output), 1))\n",
    "    actual = np.concatenate((output, inputs[:, 1:]), axis=1)\n",
    "    actual = scaler.inverse_transform(actual)\n",
    "    actual = actual[:,0]\n",
    "\n",
    "    # calculate RMSE\n",
    "    rmse = sqrt(mean_squared_error(actual, forecast))\n",
    "    return rmse, forecast, actual"
   ]
  },
  {
   "cell_type": "code",
   "execution_count": 63,
   "metadata": {},
   "outputs": [],
   "source": [
    "def mlp():\n",
    "    # design network\n",
    "    model = Sequential()\n",
    "    model.add(\n",
    "        Dense(\n",
    "            neurons,\n",
    "            activation = activation_function,\n",
    "            input_shape = (train_input.shape[1], train_input.shape[2])\n",
    "        )\n",
    "    )\n",
    "    \n",
    "    # number of fully-connected layer\n",
    "    model.add(Dense(density))\n",
    "    \n",
    "    model.compile(\n",
    "        loss = loss,\n",
    "        optimizer = optimizer\n",
    "    )\n",
    "\n",
    "    # fit network\n",
    "    history = model.fit(\n",
    "        train_input,\n",
    "        train_output,\n",
    "        validation_data = (validation_input, validation_output),\n",
    "        epochs = epochs,\n",
    "        batch_size = batch_size,\n",
    "        verbose = 0, \n",
    "        shuffle = False\n",
    "    )\n",
    "    \n",
    "    return model, history"
   ]
  },
  {
   "cell_type": "code",
   "execution_count": 64,
   "metadata": {},
   "outputs": [],
   "source": [
    "def run_network():\n",
    "    #runs the network and shows the result\n",
    "    model, history = mlp()\n",
    "    plot_graph(history.history['loss'], history.history['val_loss'], 'train', 'test', 'Epoch', 'Loss', 'Loss during training')\n",
    "\n",
    "    #calculate RMSE for test, train and validation\n",
    "    rmse_test, forecast_test, actual_test = rmse(test_input, test_output, model)\n",
    "    rmse_train, forecast_train, actual_train = rmse(train_input, train_output, model)\n",
    "    rmse_validation, forecast_validation, actual_validation = rmse(validation_input, validation_output, model)\n",
    "\n",
    "    # calculate RMSE for the actual data (difference from t to t-1)\n",
    "    rmse_actual = sqrt(mean_squared_error(reframed['taxa_compra(t-1)'], reframed['taxa_compra(t)']))\n",
    "\n",
    "    print('Test RMSE: %.3f' % rmse_test)\n",
    "    print('Train RMSE: %.3f' % rmse_train)\n",
    "    print('Validation RMSE: %.3f' % rmse_validation)\n",
    "\n",
    "    #turns np array to dataframe in order to have the dates back (test)\n",
    "    actual_new = pd.DataFrame(data=actual_test, index=reframed[int(reframed.shape[0]*0.8):].index)\n",
    "    forecast_new = pd.DataFrame(data=forecast_test, index=reframed[int(reframed.shape[0]*0.8):].index)\n",
    "    \n",
    "    return model, actual_new, forecast_new"
   ]
  },
  {
   "cell_type": "markdown",
   "metadata": {},
   "source": [
    "# RUNNING"
   ]
  },
  {
   "cell_type": "code",
   "execution_count": 65,
   "metadata": {},
   "outputs": [],
   "source": [
    "# define a escala de normalizacao\n",
    "scaler = MinMaxScaler(feature_range=(-1, 1))\n",
    "\n",
    "# configure network\n",
    "neurons = 100\n",
    "activation_function = 'sigmoid'\n",
    "dropout = 0\n",
    "learning_rate = 0.0009034797668023611\n",
    "\n",
    "# it has to be one\n",
    "density = 1\n",
    "\n",
    "loss = 'mse'\n",
    "optimizer = Adam(learning_rate=learning_rate)\n",
    "\n",
    "epochs = 10\n",
    "batch_size = 128"
   ]
  },
  {
   "cell_type": "code",
   "execution_count": 66,
   "metadata": {},
   "outputs": [],
   "source": [
    "columns_drop = [\n",
    "    [],\n",
    "    ['cdi'],\n",
    "    ['ipca'],\n",
    "    ['selic'],\n",
    "    ['cdi', 'ipca'],\n",
    "    ['cdi', 'selic'],\n",
    "    ['ipca', 'selic'],\n",
    "    ['cdi', 'ipca', 'selic']\n",
    "]"
   ]
  },
  {
   "cell_type": "code",
   "execution_count": 67,
   "metadata": {
    "scrolled": false
   },
   "outputs": [
    {
     "name": "stdout",
     "output_type": "stream",
     "text": [
      "Droping columns: []\n"
     ]
    },
    {
     "data": {
      "image/png": "[encoded data removed]",
      "text/plain": [
       "<Figure size 432x288 with 1 Axes>"
      ]
     },
     "metadata": {
      "needs_background": "light"
     },
     "output_type": "display_data"
    },
    {
     "name": "stdout",
     "output_type": "stream",
     "text": [
      "(775, 1, 1) (775, 1, 6)\n"
     ]
    },
    {
     "ename": "ValueError",
     "evalue": "all the input array dimensions for the concatenation axis must match exactly, but along dimension 2, the array at index 0 has size 1 and the array at index 1 has size 5",
     "output_type": "error",
     "traceback": [
      "\u001b[1;31m---------------------------------------------------------------------------\u001b[0m",
      "\u001b[1;31mValueError\u001b[0m                                Traceback (most recent call last)",
      "\u001b[1;32m<ipython-input-67-bb1b8860597f>\u001b[0m in \u001b[0;36m<module>\u001b[1;34m\u001b[0m\n\u001b[0;32m     14\u001b[0m     \u001b[0mtrain_input\u001b[0m\u001b[1;33m,\u001b[0m \u001b[0mtrain_output\u001b[0m\u001b[1;33m,\u001b[0m \u001b[0mvalidation_input\u001b[0m\u001b[1;33m,\u001b[0m \u001b[0mvalidation_output\u001b[0m\u001b[1;33m,\u001b[0m \u001b[0mtest_input\u001b[0m\u001b[1;33m,\u001b[0m \u001b[0mtest_output\u001b[0m \u001b[1;33m=\u001b[0m \u001b[0msplit_train_test\u001b[0m\u001b[1;33m(\u001b[0m\u001b[0mreframed\u001b[0m\u001b[1;33m)\u001b[0m\u001b[1;33m\u001b[0m\u001b[1;33m\u001b[0m\u001b[0m\n\u001b[0;32m     15\u001b[0m \u001b[1;33m\u001b[0m\u001b[0m\n\u001b[1;32m---> 16\u001b[1;33m     \u001b[0mmodel\u001b[0m\u001b[1;33m,\u001b[0m \u001b[0mactual\u001b[0m\u001b[1;33m,\u001b[0m \u001b[0mforecast\u001b[0m \u001b[1;33m=\u001b[0m \u001b[0mrun_network\u001b[0m\u001b[1;33m(\u001b[0m\u001b[1;33m)\u001b[0m\u001b[1;33m\u001b[0m\u001b[1;33m\u001b[0m\u001b[0m\n\u001b[0m\u001b[0;32m     17\u001b[0m     \u001b[0mmodels\u001b[0m\u001b[1;33m.\u001b[0m\u001b[0mappend\u001b[0m\u001b[1;33m(\u001b[0m\u001b[0mmodel\u001b[0m\u001b[1;33m)\u001b[0m\u001b[1;33m\u001b[0m\u001b[1;33m\u001b[0m\u001b[0m\n\u001b[0;32m     18\u001b[0m     \u001b[0mactuals\u001b[0m\u001b[1;33m.\u001b[0m\u001b[0mappend\u001b[0m\u001b[1;33m(\u001b[0m\u001b[0mactual\u001b[0m\u001b[1;33m)\u001b[0m\u001b[1;33m\u001b[0m\u001b[1;33m\u001b[0m\u001b[0m\n",
      "\u001b[1;32m<ipython-input-64-ea6e95b8bf4c>\u001b[0m in \u001b[0;36mrun_network\u001b[1;34m()\u001b[0m\n\u001b[0;32m      5\u001b[0m \u001b[1;33m\u001b[0m\u001b[0m\n\u001b[0;32m      6\u001b[0m     \u001b[1;31m#calculate RMSE for test, train and validation\u001b[0m\u001b[1;33m\u001b[0m\u001b[1;33m\u001b[0m\u001b[1;33m\u001b[0m\u001b[0m\n\u001b[1;32m----> 7\u001b[1;33m     \u001b[0mrmse_test\u001b[0m\u001b[1;33m,\u001b[0m \u001b[0mforecast_test\u001b[0m\u001b[1;33m,\u001b[0m \u001b[0mactual_test\u001b[0m \u001b[1;33m=\u001b[0m \u001b[0mrmse\u001b[0m\u001b[1;33m(\u001b[0m\u001b[0mtest_input\u001b[0m\u001b[1;33m,\u001b[0m \u001b[0mtest_output\u001b[0m\u001b[1;33m,\u001b[0m \u001b[0mmodel\u001b[0m\u001b[1;33m)\u001b[0m\u001b[1;33m\u001b[0m\u001b[1;33m\u001b[0m\u001b[0m\n\u001b[0m\u001b[0;32m      8\u001b[0m     \u001b[0mrmse_train\u001b[0m\u001b[1;33m,\u001b[0m \u001b[0mforecast_train\u001b[0m\u001b[1;33m,\u001b[0m \u001b[0mactual_train\u001b[0m \u001b[1;33m=\u001b[0m \u001b[0mrmse\u001b[0m\u001b[1;33m(\u001b[0m\u001b[0mtrain_input\u001b[0m\u001b[1;33m,\u001b[0m \u001b[0mtrain_output\u001b[0m\u001b[1;33m,\u001b[0m \u001b[0mmodel\u001b[0m\u001b[1;33m)\u001b[0m\u001b[1;33m\u001b[0m\u001b[1;33m\u001b[0m\u001b[0m\n\u001b[0;32m      9\u001b[0m     \u001b[0mrmse_validation\u001b[0m\u001b[1;33m,\u001b[0m \u001b[0mforecast_validation\u001b[0m\u001b[1;33m,\u001b[0m \u001b[0mactual_validation\u001b[0m \u001b[1;33m=\u001b[0m \u001b[0mrmse\u001b[0m\u001b[1;33m(\u001b[0m\u001b[0mvalidation_input\u001b[0m\u001b[1;33m,\u001b[0m \u001b[0mvalidation_output\u001b[0m\u001b[1;33m,\u001b[0m \u001b[0mmodel\u001b[0m\u001b[1;33m)\u001b[0m\u001b[1;33m\u001b[0m\u001b[1;33m\u001b[0m\u001b[0m\n",
      "\u001b[1;32m<ipython-input-62-977c2f2f3624>\u001b[0m in \u001b[0;36mrmse\u001b[1;34m(inputs, output, model)\u001b[0m\n\u001b[0;32m      6\u001b[0m     \u001b[1;31m# invert scaling for forecast (go back to the regular rates)\u001b[0m\u001b[1;33m\u001b[0m\u001b[1;33m\u001b[0m\u001b[1;33m\u001b[0m\u001b[0m\n\u001b[0;32m      7\u001b[0m     \u001b[0mprint\u001b[0m\u001b[1;33m(\u001b[0m\u001b[0mprediction\u001b[0m\u001b[1;33m.\u001b[0m\u001b[0mshape\u001b[0m\u001b[1;33m,\u001b[0m \u001b[0minputs\u001b[0m\u001b[1;33m.\u001b[0m\u001b[0mshape\u001b[0m\u001b[1;33m)\u001b[0m\u001b[1;33m\u001b[0m\u001b[1;33m\u001b[0m\u001b[0m\n\u001b[1;32m----> 8\u001b[1;33m     \u001b[0mforecast\u001b[0m \u001b[1;33m=\u001b[0m \u001b[0mnp\u001b[0m\u001b[1;33m.\u001b[0m\u001b[0mconcatenate\u001b[0m\u001b[1;33m(\u001b[0m\u001b[1;33m(\u001b[0m\u001b[0mprediction\u001b[0m\u001b[1;33m,\u001b[0m \u001b[0minputs\u001b[0m\u001b[1;33m[\u001b[0m\u001b[1;33m:\u001b[0m\u001b[1;33m,\u001b[0m \u001b[1;33m:\u001b[0m\u001b[1;33m,\u001b[0m \u001b[1;36m1\u001b[0m\u001b[1;33m:\u001b[0m\u001b[1;33m]\u001b[0m\u001b[1;33m)\u001b[0m\u001b[1;33m,\u001b[0m \u001b[0maxis\u001b[0m\u001b[1;33m=\u001b[0m\u001b[1;36m1\u001b[0m\u001b[1;33m)\u001b[0m\u001b[1;33m\u001b[0m\u001b[1;33m\u001b[0m\u001b[0m\n\u001b[0m\u001b[0;32m      9\u001b[0m     \u001b[0mforecast\u001b[0m \u001b[1;33m=\u001b[0m \u001b[0mscaler\u001b[0m\u001b[1;33m.\u001b[0m\u001b[0minverse_transform\u001b[0m\u001b[1;33m(\u001b[0m\u001b[0mforecast\u001b[0m\u001b[1;33m)\u001b[0m\u001b[1;33m\u001b[0m\u001b[1;33m\u001b[0m\u001b[0m\n\u001b[0;32m     10\u001b[0m     \u001b[0mforecast\u001b[0m \u001b[1;33m=\u001b[0m \u001b[0mforecast\u001b[0m\u001b[1;33m[\u001b[0m\u001b[1;33m:\u001b[0m\u001b[1;33m,\u001b[0m\u001b[1;36m0\u001b[0m\u001b[1;33m]\u001b[0m\u001b[1;33m\u001b[0m\u001b[1;33m\u001b[0m\u001b[0m\n",
      "\u001b[1;32m<__array_function__ internals>\u001b[0m in \u001b[0;36mconcatenate\u001b[1;34m(*args, **kwargs)\u001b[0m\n",
      "\u001b[1;31mValueError\u001b[0m: all the input array dimensions for the concatenation axis must match exactly, but along dimension 2, the array at index 0 has size 1 and the array at index 1 has size 5"
     ]
    }
   ],
   "source": [
    "models = []\n",
    "actuals = []\n",
    "forecasts = []\n",
    "\n",
    "for i in range(len(columns_drop)):\n",
    "    print('Droping columns: ' + str(columns_drop[i]))\n",
    "    dataset = IPCA_2024.drop(columns=columns_drop[i])\n",
    "    \n",
    "    # normaliza os valores\n",
    "    dataset[dataset.columns.values.tolist()] = scaler.fit_transform(dataset)\n",
    "    \n",
    "    # (dataset, days_input, days_output)\n",
    "    reframed = series_to_supervised(dataset, 1, 1)\n",
    "    train_input, train_output, validation_input, validation_output, test_input, test_output = split_train_test(reframed)\n",
    "    \n",
    "    model, actual, forecast = run_network()\n",
    "    models.append(model)\n",
    "    actuals.append(actual)\n",
    "    forecasts.append(forecast)\n",
    "    \n",
    "    plot_graph(actuals[i], forecasts[i], 'actual', 'forecast', 'Data', 'Taxa', 'Prediction without %s' % columns_drop[i])\n",
    "    print('-----------------------------------------------------')"
   ]
  },
  {
   "cell_type": "code",
   "execution_count": null,
   "metadata": {
    "scrolled": false
   },
   "outputs": [],
   "source": [
    "for i in range(len(columns_drop)):\n",
    "    plot_graph(actuals[i][-7:], forecasts[i][-7:], 'actual', 'forecast', 'Data', 'Taxa', 'Prediction of last 7 days without %s' % columns_drop[i])"
   ]
  },
  {
   "cell_type": "code",
   "execution_count": null,
   "metadata": {},
   "outputs": [],
   "source": []
  },
  {
   "cell_type": "code",
   "execution_count": null,
   "metadata": {},
   "outputs": [],
   "source": []
  },
  {
   "cell_type": "code",
   "execution_count": null,
   "metadata": {},
   "outputs": [],
   "source": []
  }
 ],
 "metadata": {
  "kernelspec": {
   "display_name": "Python 3",
   "language": "python",
   "name": "python3"
  },
  "language_info": {
   "codemirror_mode": {
    "name": "ipython",
    "version": 3
   },
   "file_extension": ".py",
   "mimetype": "text/x-python",
   "name": "python",
   "nbconvert_exporter": "python",
   "pygments_lexer": "ipython3",
   "version": "3.7.6"
  }
 },
 "nbformat": 4,
 "nbformat_minor": 4
}
